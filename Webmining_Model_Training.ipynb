{
 "cells": [
  {
   "cell_type": "code",
   "execution_count": 10,
   "id": "76f6081d",
   "metadata": {},
   "outputs": [
    {
     "name": "stdout",
     "output_type": "stream",
     "text": [
      "Training set shape: (347, 1)\n",
      "Testing set shape: (116, 1)\n"
     ]
    },
    {
     "data": {
      "text/html": [
       "<div>\n",
       "<style scoped>\n",
       "    .dataframe tbody tr th:only-of-type {\n",
       "        vertical-align: middle;\n",
       "    }\n",
       "\n",
       "    .dataframe tbody tr th {\n",
       "        vertical-align: top;\n",
       "    }\n",
       "\n",
       "    .dataframe thead th {\n",
       "        text-align: right;\n",
       "    }\n",
       "</style>\n",
       "<table border=\"1\" class=\"dataframe\">\n",
       "  <thead>\n",
       "    <tr style=\"text-align: right;\">\n",
       "      <th></th>\n",
       "      <th>Genre</th>\n",
       "      <th>Title</th>\n",
       "      <th>Audience Score</th>\n",
       "      <th>Critics Score</th>\n",
       "      <th>Synopsis</th>\n",
       "      <th>Director</th>\n",
       "    </tr>\n",
       "  </thead>\n",
       "  <tbody>\n",
       "    <tr>\n",
       "      <th>1</th>\n",
       "      <td>action</td>\n",
       "      <td>The Ministry of Ungentlemanly Warfare</td>\n",
       "      <td>1</td>\n",
       "      <td>71.0</td>\n",
       "      <td>Based upon recently declassified files of the ...</td>\n",
       "      <td>Guy Ritchie</td>\n",
       "    </tr>\n",
       "    <tr>\n",
       "      <th>2</th>\n",
       "      <td>action</td>\n",
       "      <td>Monkey Man</td>\n",
       "      <td>1</td>\n",
       "      <td>89.0</td>\n",
       "      <td>Inspired by the legend of Hanuman, an icon emb...</td>\n",
       "      <td>Dev Patel</td>\n",
       "    </tr>\n",
       "    <tr>\n",
       "      <th>3</th>\n",
       "      <td>action</td>\n",
       "      <td>Arcadian</td>\n",
       "      <td>1</td>\n",
       "      <td>83.0</td>\n",
       "      <td>In a near future, life on Earth has been decim...</td>\n",
       "      <td>Benjamin Brewer</td>\n",
       "    </tr>\n",
       "    <tr>\n",
       "      <th>4</th>\n",
       "      <td>action</td>\n",
       "      <td>Love Lies Bleeding</td>\n",
       "      <td>1</td>\n",
       "      <td>94.0</td>\n",
       "      <td>From Director Rose Glass comes an electric new...</td>\n",
       "      <td>Rose Glass</td>\n",
       "    </tr>\n",
       "    <tr>\n",
       "      <th>5</th>\n",
       "      <td>action</td>\n",
       "      <td>War for the Planet of the Apes</td>\n",
       "      <td>1</td>\n",
       "      <td>94.0</td>\n",
       "      <td>Caesar (Andy Serkis) and his apes are forced i...</td>\n",
       "      <td>Matt Reeves</td>\n",
       "    </tr>\n",
       "  </tbody>\n",
       "</table>\n",
       "</div>"
      ],
      "text/plain": [
       "    Genre                                  Title  Audience Score  \\\n",
       "1  action  The Ministry of Ungentlemanly Warfare               1   \n",
       "2  action                             Monkey Man               1   \n",
       "3  action                               Arcadian               1   \n",
       "4  action                     Love Lies Bleeding               1   \n",
       "5  action         War for the Planet of the Apes               1   \n",
       "\n",
       "   Critics Score                                           Synopsis  \\\n",
       "1           71.0  Based upon recently declassified files of the ...   \n",
       "2           89.0  Inspired by the legend of Hanuman, an icon emb...   \n",
       "3           83.0  In a near future, life on Earth has been decim...   \n",
       "4           94.0  From Director Rose Glass comes an electric new...   \n",
       "5           94.0  Caesar (Andy Serkis) and his apes are forced i...   \n",
       "\n",
       "          Director  \n",
       "1      Guy Ritchie  \n",
       "2        Dev Patel  \n",
       "3  Benjamin Brewer  \n",
       "4       Rose Glass  \n",
       "5      Matt Reeves  "
      ]
     },
     "execution_count": 10,
     "metadata": {},
     "output_type": "execute_result"
    }
   ],
   "source": [
    "import pandas as pd\n",
    "from sklearn.model_selection import train_test_split\n",
    "from sklearn.linear_model import LogisticRegression\n",
    "from sklearn.metrics import accuracy_score\n",
    "from sklearn.preprocessing import StandardScaler\n",
    "\n",
    "# Load the dataset from the CSV file\n",
    "data = pd.read_csv('movies_data_all_genres.csv')\n",
    "\n",
    "# Remove rows with missing values\n",
    "data.dropna(inplace=True)\n",
    "\n",
    "# Binarize the audience score: 1 for positive, 0 for negative\n",
    "data['Audience Score'] = (data['Audience Score'] >= 50).astype(int)\n",
    "\n",
    "# Define the features and target variable\n",
    "# Using Critics Score as the feature for simplicity\n",
    "X = data[['Critics Score']]\n",
    "y = data['Audience Score']\n",
    "\n",
    "# Split the data into training and testing sets\n",
    "# 75% for training, 25% for testing\n",
    "X_train, X_test, y_train, y_test = train_test_split(X, y, test_size=0.25, random_state=42)\n",
    "\n",
    "# Display the shapes of the training and testing sets\n",
    "print(\"Training set shape:\", X_train.shape)\n",
    "print(\"Testing set shape:\", X_test.shape)\n",
    "\n",
    "# Display the first few rows of the dataset\n",
    "data.head()"
   ]
  },
  {
   "cell_type": "code",
   "execution_count": 11,
   "id": "5047cb4d",
   "metadata": {},
   "outputs": [
    {
     "data": {
      "text/plain": [
       "0.896551724137931"
      ]
     },
     "execution_count": 11,
     "metadata": {},
     "output_type": "execute_result"
    }
   ],
   "source": [
    "from sklearn.linear_model import LogisticRegression\n",
    "from sklearn.metrics import accuracy_score\n",
    "\n",
    "# Initialize the logistic regression model\n",
    "model = LogisticRegression()\n",
    "\n",
    "# Train the model\n",
    "model.fit(X_train, y_train)\n",
    "\n",
    "# Predict on the testing set\n",
    "y_pred = model.predict(X_test)\n",
    "\n",
    "# Calculate accuracy\n",
    "accuracy = accuracy_score(y_test, y_pred)\n",
    "accuracy"
   ]
  },
  {
   "cell_type": "code",
   "execution_count": 12,
   "id": "aff673ea",
   "metadata": {},
   "outputs": [
    {
     "data": {
      "text/plain": [
       "0.9568965517241379"
      ]
     },
     "execution_count": 12,
     "metadata": {},
     "output_type": "execute_result"
    }
   ],
   "source": [
    "from sklearn.tree import DecisionTreeClassifier\n",
    "\n",
    "# Initialize the decision tree model\n",
    "dt_model = DecisionTreeClassifier(random_state=42)\n",
    "\n",
    "# Train the model\n",
    "dt_model.fit(X_train, y_train)\n",
    "\n",
    "# Predict on the testing set\n",
    "y_pred_dt = dt_model.predict(X_test)\n",
    "\n",
    "# Calculate accuracy\n",
    "accuracy_dt = accuracy_score(y_test, y_pred_dt)\n",
    "accuracy_dt"
   ]
  },
  {
   "cell_type": "code",
   "execution_count": null,
   "id": "3a56a2cf",
   "metadata": {},
   "outputs": [],
   "source": []
  }
 ],
 "metadata": {
  "kernelspec": {
   "display_name": "Python 3 (ipykernel)",
   "language": "python",
   "name": "python3"
  },
  "language_info": {
   "codemirror_mode": {
    "name": "ipython",
    "version": 3
   },
   "file_extension": ".py",
   "mimetype": "text/x-python",
   "name": "python",
   "nbconvert_exporter": "python",
   "pygments_lexer": "ipython3",
   "version": "3.7.0"
  }
 },
 "nbformat": 4,
 "nbformat_minor": 5
}
